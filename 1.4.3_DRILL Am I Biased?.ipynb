{
 "cells": [
  {
   "cell_type": "markdown",
   "metadata": {},
   "source": [
    "<b>1)You're testing advertising emails for a bathing suit company and you test one version of the email in February and the other in May."
   ]
  },
  {
   "cell_type": "markdown",
   "metadata": {},
   "source": [
    "At first, it is supposed that people purchase more bathing suit in May than the other months before summer season starts.But if we look from other perspective, we can think that both sales could be same rate.  \n",
    "The people who choose to purchse bathing suit in February, think that prices may be cheaper at the off season.\n",
    "People who prefer purchasing bathing suit in May, usually aim to lose their extra weight till summer starts or they may want to follow summer fashion so due to these reasons we expect that the rates whould be higher in May.  \n",
    "People who conduct this study may take into account these findinds and picked February and May for their analysis. "
   ]
  },
  {
   "cell_type": "markdown",
   "metadata": {},
   "source": [
    "<b>2)You open a clinic to treat anxiety and find that the people who visit show a higher rate of anxiety than the general population."
   ]
  },
  {
   "cell_type": "markdown",
   "metadata": {},
   "source": [
    "Generally, we assume that visiting people has more higher rate of anxiety than the others as expected. Another important parameter is the location of the hospital. It may have been opened in a region where has more social pressure happens to people. "
   ]
  },
  {
   "cell_type": "markdown",
   "metadata": {},
   "source": [
    "<b>3)You launch a new ad billboard based campaign and see an increase in website visits in the first week."
   ]
  },
  {
   "cell_type": "markdown",
   "metadata": {},
   "source": [
    "It seems taht this billboard has been placed where has high traffic density (both car and pedesterian) so it might have reached so many people that caused an increase in website visits."
   ]
  },
  {
   "cell_type": "markdown",
   "metadata": {},
   "source": [
    "<b>4)You launch a loyalty program but see no change in visits in the first week."
   ]
  },
  {
   "cell_type": "markdown",
   "metadata": {},
   "source": []
  }
 ],
 "metadata": {
  "kernelspec": {
   "display_name": "Python 3",
   "language": "python",
   "name": "python3"
  },
  "language_info": {
   "codemirror_mode": {
    "name": "ipython",
    "version": 3
   },
   "file_extension": ".py",
   "mimetype": "text/x-python",
   "name": "python",
   "nbconvert_exporter": "python",
   "pygments_lexer": "ipython3",
   "version": "3.7.0"
  }
 },
 "nbformat": 4,
 "nbformat_minor": 2
}
